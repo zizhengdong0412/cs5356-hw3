{
 "cells": [
  {
   "cell_type": "code",
   "execution_count": 1,
   "id": "e3cff62e",
   "metadata": {},
   "outputs": [],
   "source": [
    "import pandas as pd"
   ]
  },
  {
   "cell_type": "markdown",
   "id": "e1a2dbbe",
   "metadata": {},
   "source": [
    "# Read csv file"
   ]
  },
  {
   "cell_type": "code",
   "execution_count": 3,
   "id": "3abf6165",
   "metadata": {},
   "outputs": [],
   "source": [
    "data = pd.read_csv('/Users/zizhengdong/Documents/GitHub/homework-0-zizhengdong0412/datasets/housing_dataset.csv')"
   ]
  },
  {
   "cell_type": "code",
   "execution_count": 4,
   "id": "eeb404f1",
   "metadata": {},
   "outputs": [
    {
     "name": "stdout",
     "output_type": "stream",
     "text": [
      "   longitude  latitude  housing_median_age  total_rooms  total_bedrooms  \\\n",
      "0    -122.23     37.88                41.0        880.0           129.0   \n",
      "1    -122.22     37.86                21.0       7099.0          1106.0   \n",
      "2    -122.24     37.85                52.0       1467.0           190.0   \n",
      "3    -122.25     37.85                52.0       1274.0           235.0   \n",
      "4    -122.25     37.85                52.0       1627.0           280.0   \n",
      "\n",
      "   population  households  median_income  median_house_value ocean_proximity  \n",
      "0       322.0       126.0         8.3252            452600.0        NEAR BAY  \n",
      "1      2401.0      1138.0         8.3014            358500.0        NEAR BAY  \n",
      "2       496.0       177.0         7.2574            352100.0        NEAR BAY  \n",
      "3       558.0       219.0         5.6431            341300.0        NEAR BAY  \n",
      "4       565.0       259.0         3.8462            342200.0             NaN  \n"
     ]
    }
   ],
   "source": [
    "print(data.head())"
   ]
  },
  {
   "cell_type": "markdown",
   "id": "48f82453",
   "metadata": {},
   "source": [
    "# Accessing data"
   ]
  },
  {
   "cell_type": "code",
   "execution_count": 5,
   "id": "7d5ae45e",
   "metadata": {},
   "outputs": [
    {
     "name": "stdout",
     "output_type": "stream",
     "text": [
      "0         322.0\n",
      "1        2401.0\n",
      "2         496.0\n",
      "3         558.0\n",
      "4         565.0\n",
      "          ...  \n",
      "20635     845.0\n",
      "20636     356.0\n",
      "20637    1007.0\n",
      "20638     741.0\n",
      "20639    1387.0\n",
      "Name: population, Length: 20640, dtype: float64\n"
     ]
    }
   ],
   "source": [
    "print(data['population'])"
   ]
  },
  {
   "cell_type": "code",
   "execution_count": 5,
   "id": "7936650c",
   "metadata": {},
   "outputs": [
    {
     "name": "stdout",
     "output_type": "stream",
     "text": [
      "0         322.0\n",
      "1        2401.0\n",
      "2         496.0\n",
      "3         558.0\n",
      "4         565.0\n",
      "          ...  \n",
      "20635     845.0\n",
      "20636     356.0\n",
      "20637    1007.0\n",
      "20638     741.0\n",
      "20639    1387.0\n",
      "Name: population, Length: 20640, dtype: float64\n"
     ]
    }
   ],
   "source": [
    "print(data.population)\n",
    "#print(data.population[0]) # index similarily as arrays"
   ]
  },
  {
   "cell_type": "code",
   "execution_count": 6,
   "id": "205607ff",
   "metadata": {},
   "outputs": [
    {
     "name": "stdout",
     "output_type": "stream",
     "text": [
      "   longitude  latitude  housing_median_age  total_rooms  total_bedrooms  \\\n",
      "2    -122.24     37.85                52.0       1467.0           190.0   \n",
      "3    -122.25     37.85                52.0       1274.0           235.0   \n",
      "4    -122.25     37.85                52.0       1627.0           280.0   \n",
      "5    -122.25     37.85                52.0        919.0           213.0   \n",
      "\n",
      "   population  households  median_income  median_house_value ocean_proximity  \n",
      "2       496.0       177.0         7.2574            352100.0        NEAR BAY  \n",
      "3       558.0       219.0         5.6431            341300.0        NEAR BAY  \n",
      "4       565.0       259.0         3.8462            342200.0             NaN  \n",
      "5         NaN       193.0         4.0368            269700.0        NEAR BAY  \n",
      "2    52.0\n",
      "3    52.0\n",
      "4    52.0\n",
      "5    52.0\n",
      "Name: housing_median_age, dtype: float64\n"
     ]
    }
   ],
   "source": [
    "#loc selects rows for elements 2 --> 5 \n",
    "two_rows = data.loc[2:5]\n",
    "print(two_rows)\n",
    "print(two_rows['housing_median_age']) # index into data"
   ]
  },
  {
   "cell_type": "code",
   "execution_count": 7,
   "id": "7690aa12",
   "metadata": {},
   "outputs": [
    {
     "name": "stdout",
     "output_type": "stream",
     "text": [
      "   longitude  latitude  housing_median_age  total_rooms  total_bedrooms  \\\n",
      "0    -122.23     37.88                41.0        880.0           129.0   \n",
      "1    -122.22     37.86                21.0       7099.0          1106.0   \n",
      "\n",
      "   population  households  median_income  median_house_value ocean_proximity  \n",
      "0       322.0       126.0         8.3252            452600.0        NEAR BAY  \n",
      "1      2401.0      1138.0         8.3014            358500.0        NEAR BAY  \n",
      "0    41.0\n",
      "1    21.0\n",
      "Name: housing_median_age, dtype: float64\n"
     ]
    }
   ],
   "source": [
    "#iloc selects rows and columns at specific integer positions.\n",
    "two_rows = data.iloc[[0,1]]\n",
    "print(two_rows)\n",
    "print(two_rows['housing_median_age'])"
   ]
  },
  {
   "cell_type": "code",
   "execution_count": 16,
   "id": "a245ccd2",
   "metadata": {},
   "outputs": [
    {
     "name": "stdout",
     "output_type": "stream",
     "text": [
      "   longitude  latitude  housing_median_age\n",
      "0    -122.23     37.88                41.0\n",
      "1    -122.22     37.86                21.0\n",
      "2    -122.24     37.85                52.0\n"
     ]
    }
   ],
   "source": [
    "#iloc selects first three rows and first two columns at specific integer positions.\n",
    "# data.iloc[start_row:end_row,start_col:end_col]\n",
    "three_rows_two_cols = data.iloc[0:3,0:3]\n",
    "print(three_rows_two_cols)"
   ]
  },
  {
   "cell_type": "markdown",
   "id": "18434747",
   "metadata": {},
   "source": [
    "# Check for NaN"
   ]
  },
  {
   "cell_type": "code",
   "execution_count": 9,
   "id": "5d0445df",
   "metadata": {},
   "outputs": [
    {
     "name": "stdout",
     "output_type": "stream",
     "text": [
      "0        False\n",
      "1        False\n",
      "2        False\n",
      "3        False\n",
      "4        False\n",
      "         ...  \n",
      "20635    False\n",
      "20636    False\n",
      "20637    False\n",
      "20638    False\n",
      "20639    False\n",
      "Name: housing_median_age, Length: 20640, dtype: bool\n"
     ]
    }
   ],
   "source": [
    "print(data['housing_median_age'].isnull())"
   ]
  },
  {
   "cell_type": "code",
   "execution_count": 10,
   "id": "1a2438c9",
   "metadata": {},
   "outputs": [
    {
     "name": "stdout",
     "output_type": "stream",
     "text": [
      "12\n"
     ]
    }
   ],
   "source": [
    "print(data['housing_median_age'].isnull().sum())"
   ]
  },
  {
   "cell_type": "code",
   "execution_count": 11,
   "id": "5ff7f125",
   "metadata": {},
   "outputs": [
    {
     "name": "stdout",
     "output_type": "stream",
     "text": [
      "0\n"
     ]
    }
   ],
   "source": [
    "data_na = data.dropna()\n",
    "print(data_na['housing_median_age'].isnull().sum())"
   ]
  },
  {
   "cell_type": "markdown",
   "id": "c554b756",
   "metadata": {},
   "source": [
    "# Compute Correlation"
   ]
  },
  {
   "cell_type": "code",
   "execution_count": 12,
   "id": "358e09af",
   "metadata": {},
   "outputs": [
    {
     "name": "stdout",
     "output_type": "stream",
     "text": [
      "                    longitude  latitude  housing_median_age  total_rooms  \\\n",
      "longitude            1.000000 -0.924599           -0.106605     0.044231   \n",
      "latitude            -0.924599  1.000000            0.009128    -0.035676   \n",
      "housing_median_age  -0.106605  0.009128            1.000000    -0.361014   \n",
      "total_rooms          0.044231 -0.035676           -0.361014     1.000000   \n",
      "total_bedrooms       0.069187 -0.066574           -0.320227     0.930408   \n",
      "population           0.099281 -0.108339           -0.295788     0.857058   \n",
      "households           0.054899 -0.070667           -0.302540     0.918476   \n",
      "median_income       -0.015451 -0.079031           -0.118324     0.197915   \n",
      "median_house_value  -0.046036 -0.143627            0.106464     0.134041   \n",
      "\n",
      "                    total_bedrooms  population  households  median_income  \\\n",
      "longitude                 0.069187    0.099281    0.054899      -0.015451   \n",
      "latitude                 -0.066574   -0.108339   -0.070667      -0.079031   \n",
      "housing_median_age       -0.320227   -0.295788   -0.302540      -0.118324   \n",
      "total_rooms               0.930408    0.857058    0.918476       0.197915   \n",
      "total_bedrooms            1.000000    0.877672    0.979717      -0.007374   \n",
      "population                0.877672    1.000000    0.907149       0.004640   \n",
      "households                0.979717    0.907149    1.000000       0.013007   \n",
      "median_income            -0.007374    0.004640    0.013007       1.000000   \n",
      "median_house_value        0.049949   -0.024871    0.065754       0.688046   \n",
      "\n",
      "                    median_house_value  \n",
      "longitude                    -0.046036  \n",
      "latitude                     -0.143627  \n",
      "housing_median_age            0.106464  \n",
      "total_rooms                   0.134041  \n",
      "total_bedrooms                0.049949  \n",
      "population                   -0.024871  \n",
      "households                    0.065754  \n",
      "median_income                 0.688046  \n",
      "median_house_value            1.000000  \n"
     ]
    }
   ],
   "source": [
    "corr = data.corr()\n",
    "print(corr)\n",
    "#print(corr['total_rooms']['total_bedrooms'])"
   ]
  },
  {
   "cell_type": "code",
   "execution_count": 13,
   "id": "3fc2fd29",
   "metadata": {},
   "outputs": [
    {
     "name": "stdout",
     "output_type": "stream",
     "text": [
      "0.0046398335427524084\n"
     ]
    }
   ],
   "source": [
    "corr_population_median_income = data['population'].corr(data['median_income'])\n",
    "print(corr_population_median_income)"
   ]
  },
  {
   "cell_type": "code",
   "execution_count": null,
   "id": "f3e663b0",
   "metadata": {},
   "outputs": [],
   "source": []
  },
  {
   "cell_type": "code",
   "execution_count": 3,
   "id": "08dd957b",
   "metadata": {},
   "outputs": [],
   "source": [
    "import pandas as pd\n",
    "import numpy as np\n",
    "\n",
    "df = pd.DataFrame(\n",
    "        np.random.randn(1000, 2) / [50, 50] + [37.76, -122.4],\n",
    "        columns=['lat', 'lon'])"
   ]
  },
  {
   "cell_type": "code",
   "execution_count": 4,
   "id": "aa19db3a-875a-4019-ad5c-500f86dcd4ea",
   "metadata": {},
   "outputs": [
    {
     "data": {
      "text/html": [
       "<div>\n",
       "<style scoped>\n",
       "    .dataframe tbody tr th:only-of-type {\n",
       "        vertical-align: middle;\n",
       "    }\n",
       "\n",
       "    .dataframe tbody tr th {\n",
       "        vertical-align: top;\n",
       "    }\n",
       "\n",
       "    .dataframe thead th {\n",
       "        text-align: right;\n",
       "    }\n",
       "</style>\n",
       "<table border=\"1\" class=\"dataframe\">\n",
       "  <thead>\n",
       "    <tr style=\"text-align: right;\">\n",
       "      <th></th>\n",
       "      <th>lat</th>\n",
       "      <th>lon</th>\n",
       "    </tr>\n",
       "  </thead>\n",
       "  <tbody>\n",
       "    <tr>\n",
       "      <th>0</th>\n",
       "      <td>37.787741</td>\n",
       "      <td>-122.387097</td>\n",
       "    </tr>\n",
       "    <tr>\n",
       "      <th>1</th>\n",
       "      <td>37.785992</td>\n",
       "      <td>-122.413861</td>\n",
       "    </tr>\n",
       "    <tr>\n",
       "      <th>2</th>\n",
       "      <td>37.774911</td>\n",
       "      <td>-122.440038</td>\n",
       "    </tr>\n",
       "    <tr>\n",
       "      <th>3</th>\n",
       "      <td>37.784951</td>\n",
       "      <td>-122.431185</td>\n",
       "    </tr>\n",
       "    <tr>\n",
       "      <th>4</th>\n",
       "      <td>37.754279</td>\n",
       "      <td>-122.415186</td>\n",
       "    </tr>\n",
       "    <tr>\n",
       "      <th>...</th>\n",
       "      <td>...</td>\n",
       "      <td>...</td>\n",
       "    </tr>\n",
       "    <tr>\n",
       "      <th>995</th>\n",
       "      <td>37.775478</td>\n",
       "      <td>-122.411096</td>\n",
       "    </tr>\n",
       "    <tr>\n",
       "      <th>996</th>\n",
       "      <td>37.744209</td>\n",
       "      <td>-122.369467</td>\n",
       "    </tr>\n",
       "    <tr>\n",
       "      <th>997</th>\n",
       "      <td>37.766361</td>\n",
       "      <td>-122.365674</td>\n",
       "    </tr>\n",
       "    <tr>\n",
       "      <th>998</th>\n",
       "      <td>37.740567</td>\n",
       "      <td>-122.405341</td>\n",
       "    </tr>\n",
       "    <tr>\n",
       "      <th>999</th>\n",
       "      <td>37.757337</td>\n",
       "      <td>-122.398725</td>\n",
       "    </tr>\n",
       "  </tbody>\n",
       "</table>\n",
       "<p>1000 rows × 2 columns</p>\n",
       "</div>"
      ],
      "text/plain": [
       "           lat         lon\n",
       "0    37.787741 -122.387097\n",
       "1    37.785992 -122.413861\n",
       "2    37.774911 -122.440038\n",
       "3    37.784951 -122.431185\n",
       "4    37.754279 -122.415186\n",
       "..         ...         ...\n",
       "995  37.775478 -122.411096\n",
       "996  37.744209 -122.369467\n",
       "997  37.766361 -122.365674\n",
       "998  37.740567 -122.405341\n",
       "999  37.757337 -122.398725\n",
       "\n",
       "[1000 rows x 2 columns]"
      ]
     },
     "execution_count": 4,
     "metadata": {},
     "output_type": "execute_result"
    }
   ],
   "source": [
    "df"
   ]
  },
  {
   "cell_type": "code",
   "execution_count": 10,
   "id": "025c61d6-6155-4f13-9d87-ca27d508250c",
   "metadata": {},
   "outputs": [
    {
     "data": {
      "text/html": [
       "<div>\n",
       "<style scoped>\n",
       "    .dataframe tbody tr th:only-of-type {\n",
       "        vertical-align: middle;\n",
       "    }\n",
       "\n",
       "    .dataframe tbody tr th {\n",
       "        vertical-align: top;\n",
       "    }\n",
       "\n",
       "    .dataframe thead th {\n",
       "        text-align: right;\n",
       "    }\n",
       "</style>\n",
       "<table border=\"1\" class=\"dataframe\">\n",
       "  <thead>\n",
       "    <tr style=\"text-align: right;\">\n",
       "      <th></th>\n",
       "      <th>longitude</th>\n",
       "      <th>latitude</th>\n",
       "      <th>housing_median_age</th>\n",
       "      <th>total_rooms</th>\n",
       "      <th>total_bedrooms</th>\n",
       "      <th>population</th>\n",
       "      <th>households</th>\n",
       "      <th>median_income</th>\n",
       "      <th>median_house_value</th>\n",
       "      <th>ocean_proximity</th>\n",
       "    </tr>\n",
       "  </thead>\n",
       "  <tbody>\n",
       "    <tr>\n",
       "      <th>0</th>\n",
       "      <td>-122.23</td>\n",
       "      <td>37.88</td>\n",
       "      <td>41.0</td>\n",
       "      <td>880.0</td>\n",
       "      <td>129.0</td>\n",
       "      <td>322.0</td>\n",
       "      <td>126.0</td>\n",
       "      <td>8.3252</td>\n",
       "      <td>452600.0</td>\n",
       "      <td>NEAR BAY</td>\n",
       "    </tr>\n",
       "    <tr>\n",
       "      <th>1</th>\n",
       "      <td>-122.22</td>\n",
       "      <td>37.86</td>\n",
       "      <td>21.0</td>\n",
       "      <td>7099.0</td>\n",
       "      <td>1106.0</td>\n",
       "      <td>2401.0</td>\n",
       "      <td>1138.0</td>\n",
       "      <td>8.3014</td>\n",
       "      <td>358500.0</td>\n",
       "      <td>NEAR BAY</td>\n",
       "    </tr>\n",
       "    <tr>\n",
       "      <th>2</th>\n",
       "      <td>-122.24</td>\n",
       "      <td>37.85</td>\n",
       "      <td>52.0</td>\n",
       "      <td>1467.0</td>\n",
       "      <td>190.0</td>\n",
       "      <td>496.0</td>\n",
       "      <td>177.0</td>\n",
       "      <td>7.2574</td>\n",
       "      <td>352100.0</td>\n",
       "      <td>NEAR BAY</td>\n",
       "    </tr>\n",
       "    <tr>\n",
       "      <th>3</th>\n",
       "      <td>-122.25</td>\n",
       "      <td>37.85</td>\n",
       "      <td>52.0</td>\n",
       "      <td>1274.0</td>\n",
       "      <td>235.0</td>\n",
       "      <td>558.0</td>\n",
       "      <td>219.0</td>\n",
       "      <td>5.6431</td>\n",
       "      <td>341300.0</td>\n",
       "      <td>NEAR BAY</td>\n",
       "    </tr>\n",
       "    <tr>\n",
       "      <th>4</th>\n",
       "      <td>-122.25</td>\n",
       "      <td>37.85</td>\n",
       "      <td>52.0</td>\n",
       "      <td>1627.0</td>\n",
       "      <td>280.0</td>\n",
       "      <td>565.0</td>\n",
       "      <td>259.0</td>\n",
       "      <td>3.8462</td>\n",
       "      <td>342200.0</td>\n",
       "      <td>NaN</td>\n",
       "    </tr>\n",
       "    <tr>\n",
       "      <th>...</th>\n",
       "      <td>...</td>\n",
       "      <td>...</td>\n",
       "      <td>...</td>\n",
       "      <td>...</td>\n",
       "      <td>...</td>\n",
       "      <td>...</td>\n",
       "      <td>...</td>\n",
       "      <td>...</td>\n",
       "      <td>...</td>\n",
       "      <td>...</td>\n",
       "    </tr>\n",
       "    <tr>\n",
       "      <th>20635</th>\n",
       "      <td>-121.09</td>\n",
       "      <td>39.48</td>\n",
       "      <td>25.0</td>\n",
       "      <td>1665.0</td>\n",
       "      <td>374.0</td>\n",
       "      <td>845.0</td>\n",
       "      <td>330.0</td>\n",
       "      <td>1.5603</td>\n",
       "      <td>78100.0</td>\n",
       "      <td>INLAND</td>\n",
       "    </tr>\n",
       "    <tr>\n",
       "      <th>20636</th>\n",
       "      <td>-121.21</td>\n",
       "      <td>39.49</td>\n",
       "      <td>18.0</td>\n",
       "      <td>697.0</td>\n",
       "      <td>150.0</td>\n",
       "      <td>356.0</td>\n",
       "      <td>114.0</td>\n",
       "      <td>2.5568</td>\n",
       "      <td>77100.0</td>\n",
       "      <td>INLAND</td>\n",
       "    </tr>\n",
       "    <tr>\n",
       "      <th>20637</th>\n",
       "      <td>-121.22</td>\n",
       "      <td>39.43</td>\n",
       "      <td>17.0</td>\n",
       "      <td>2254.0</td>\n",
       "      <td>485.0</td>\n",
       "      <td>1007.0</td>\n",
       "      <td>433.0</td>\n",
       "      <td>1.7000</td>\n",
       "      <td>92300.0</td>\n",
       "      <td>INLAND</td>\n",
       "    </tr>\n",
       "    <tr>\n",
       "      <th>20638</th>\n",
       "      <td>-121.32</td>\n",
       "      <td>39.43</td>\n",
       "      <td>18.0</td>\n",
       "      <td>1860.0</td>\n",
       "      <td>409.0</td>\n",
       "      <td>741.0</td>\n",
       "      <td>349.0</td>\n",
       "      <td>1.8672</td>\n",
       "      <td>84700.0</td>\n",
       "      <td>INLAND</td>\n",
       "    </tr>\n",
       "    <tr>\n",
       "      <th>20639</th>\n",
       "      <td>-121.24</td>\n",
       "      <td>39.37</td>\n",
       "      <td>16.0</td>\n",
       "      <td>2785.0</td>\n",
       "      <td>616.0</td>\n",
       "      <td>1387.0</td>\n",
       "      <td>530.0</td>\n",
       "      <td>2.3886</td>\n",
       "      <td>89400.0</td>\n",
       "      <td>INLAND</td>\n",
       "    </tr>\n",
       "  </tbody>\n",
       "</table>\n",
       "<p>20640 rows × 10 columns</p>\n",
       "</div>"
      ],
      "text/plain": [
       "       longitude  latitude  housing_median_age  total_rooms  total_bedrooms  \\\n",
       "0        -122.23     37.88                41.0        880.0           129.0   \n",
       "1        -122.22     37.86                21.0       7099.0          1106.0   \n",
       "2        -122.24     37.85                52.0       1467.0           190.0   \n",
       "3        -122.25     37.85                52.0       1274.0           235.0   \n",
       "4        -122.25     37.85                52.0       1627.0           280.0   \n",
       "...          ...       ...                 ...          ...             ...   \n",
       "20635    -121.09     39.48                25.0       1665.0           374.0   \n",
       "20636    -121.21     39.49                18.0        697.0           150.0   \n",
       "20637    -121.22     39.43                17.0       2254.0           485.0   \n",
       "20638    -121.32     39.43                18.0       1860.0           409.0   \n",
       "20639    -121.24     39.37                16.0       2785.0           616.0   \n",
       "\n",
       "       population  households  median_income  median_house_value  \\\n",
       "0           322.0       126.0         8.3252            452600.0   \n",
       "1          2401.0      1138.0         8.3014            358500.0   \n",
       "2           496.0       177.0         7.2574            352100.0   \n",
       "3           558.0       219.0         5.6431            341300.0   \n",
       "4           565.0       259.0         3.8462            342200.0   \n",
       "...           ...         ...            ...                 ...   \n",
       "20635       845.0       330.0         1.5603             78100.0   \n",
       "20636       356.0       114.0         2.5568             77100.0   \n",
       "20637      1007.0       433.0         1.7000             92300.0   \n",
       "20638       741.0       349.0         1.8672             84700.0   \n",
       "20639      1387.0       530.0         2.3886             89400.0   \n",
       "\n",
       "      ocean_proximity  \n",
       "0            NEAR BAY  \n",
       "1            NEAR BAY  \n",
       "2            NEAR BAY  \n",
       "3            NEAR BAY  \n",
       "4                 NaN  \n",
       "...               ...  \n",
       "20635          INLAND  \n",
       "20636          INLAND  \n",
       "20637          INLAND  \n",
       "20638          INLAND  \n",
       "20639          INLAND  \n",
       "\n",
       "[20640 rows x 10 columns]"
      ]
     },
     "execution_count": 10,
     "metadata": {},
     "output_type": "execute_result"
    }
   ],
   "source": [
    "data"
   ]
  },
  {
   "cell_type": "code",
   "execution_count": 13,
   "id": "75a61416-d410-4a06-82b3-40503bb7c015",
   "metadata": {},
   "outputs": [],
   "source": [
    "df2 = pd.DataFrame(\n",
    "        data['longitude'], data['latitude'],\n",
    "        columns=['lat', 'lon'])"
   ]
  },
  {
   "cell_type": "code",
   "execution_count": 16,
   "id": "b064d2ad-c8ca-4bfc-b50e-a20c21ac4b11",
   "metadata": {},
   "outputs": [],
   "source": [
    "data['long'] = data['longitude']\n",
    "data['lat'] = data['latitude']"
   ]
  },
  {
   "cell_type": "code",
   "execution_count": null,
   "id": "51d8e404-c373-4a48-9177-317a19b12ca9",
   "metadata": {},
   "outputs": [],
   "source": []
  }
 ],
 "metadata": {
  "kernelspec": {
   "display_name": "Python 3",
   "language": "python",
   "name": "python3"
  },
  "language_info": {
   "codemirror_mode": {
    "name": "ipython",
    "version": 3
   },
   "file_extension": ".py",
   "mimetype": "text/x-python",
   "name": "python",
   "nbconvert_exporter": "python",
   "pygments_lexer": "ipython3",
   "version": "3.11.8"
  }
 },
 "nbformat": 4,
 "nbformat_minor": 5
}
